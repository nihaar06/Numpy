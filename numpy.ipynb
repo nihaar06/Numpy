{
  "nbformat": 4,
  "nbformat_minor": 0,
  "metadata": {
    "colab": {
      "provenance": [],
      "include_colab_link": true
    },
    "kernelspec": {
      "name": "python3",
      "display_name": "Python 3"
    },
    "language_info": {
      "name": "python"
    }
  },
  "cells": [
    {
      "cell_type": "markdown",
      "metadata": {
        "id": "view-in-github",
        "colab_type": "text"
      },
      "source": [
        "<a href=\"https://colab.research.google.com/github/nihaar06/Numpy/blob/main/numpy.ipynb\" target=\"_parent\"><img src=\"https://colab.research.google.com/assets/colab-badge.svg\" alt=\"Open In Colab\"/></a>"
      ]
    },
    {
      "cell_type": "code",
      "execution_count": null,
      "metadata": {
        "colab": {
          "base_uri": "https://localhost:8080/"
        },
        "id": "yht_H0nTCdy_",
        "outputId": "0bbdccfe-99cf-4039-c4b9-99dfb557373f"
      },
      "outputs": [
        {
          "output_type": "stream",
          "name": "stdout",
          "text": [
            "Requirement already satisfied: numpy in /usr/local/lib/python3.12/dist-packages (2.0.2)\n"
          ]
        }
      ],
      "source": [
        "pip install numpy"
      ]
    },
    {
      "cell_type": "code",
      "source": [
        "import numpy as np"
      ],
      "metadata": {
        "id": "liVPfVb3CosP"
      },
      "execution_count": null,
      "outputs": []
    },
    {
      "cell_type": "code",
      "source": [
        "arr1=np.array([1,2,3])\n",
        "print(arr1)"
      ],
      "metadata": {
        "colab": {
          "base_uri": "https://localhost:8080/"
        },
        "id": "ATV0OjoTCqak",
        "outputId": "c744f9f2-d159-4d1c-92b5-c8903922f772"
      },
      "execution_count": null,
      "outputs": [
        {
          "output_type": "stream",
          "name": "stdout",
          "text": [
            "[1 2 3]\n"
          ]
        }
      ]
    },
    {
      "cell_type": "code",
      "source": [
        "arr_2d=np.array([[1,2,3],[4,5,6]])"
      ],
      "metadata": {
        "id": "O0xYfhZ2DWpK"
      },
      "execution_count": null,
      "outputs": []
    },
    {
      "cell_type": "code",
      "source": [
        "print(arr_2d)"
      ],
      "metadata": {
        "colab": {
          "base_uri": "https://localhost:8080/"
        },
        "id": "-LCBydv6D6IG",
        "outputId": "c3f7102d-5098-4b5c-b40a-d6cb51e14fd7"
      },
      "execution_count": null,
      "outputs": [
        {
          "output_type": "stream",
          "name": "stdout",
          "text": [
            "[[1 2 3]\n",
            " [4 5 6]]\n"
          ]
        }
      ]
    },
    {
      "cell_type": "code",
      "source": [
        "arr_3d=np.array([[[1,2,3],[4,5,6]],[[7,9,10],[81,-2,0]]])\n",
        "print(arr_3d)"
      ],
      "metadata": {
        "colab": {
          "base_uri": "https://localhost:8080/"
        },
        "id": "GlMF-o-jD7Ua",
        "outputId": "577a403f-b8d2-407b-ea97-c34f0fb0e976"
      },
      "execution_count": null,
      "outputs": [
        {
          "output_type": "stream",
          "name": "stdout",
          "text": [
            "[[[ 1  2  3]\n",
            "  [ 4  5  6]]\n",
            "\n",
            " [[ 7  9 10]\n",
            "  [81 -2  0]]]\n"
          ]
        }
      ]
    },
    {
      "cell_type": "code",
      "source": [
        "print(arr1.ndim)\n",
        "print(arr_2d.ndim)\n",
        "print(arr_3d.ndim)"
      ],
      "metadata": {
        "colab": {
          "base_uri": "https://localhost:8080/"
        },
        "id": "HgOltoYvEJ36",
        "outputId": "3ca9524f-873a-4101-ffdf-d63347a45e3c"
      },
      "execution_count": null,
      "outputs": [
        {
          "output_type": "stream",
          "name": "stdout",
          "text": [
            "1\n",
            "2\n",
            "3\n"
          ]
        }
      ]
    },
    {
      "cell_type": "code",
      "source": [
        "zeros=np.zeros((2,3,4))\n",
        "print(zeros)"
      ],
      "metadata": {
        "colab": {
          "base_uri": "https://localhost:8080/"
        },
        "id": "IbL2TCiTE7Md",
        "outputId": "cd52d390-f712-4482-c65d-842a25880fe2"
      },
      "execution_count": null,
      "outputs": [
        {
          "output_type": "stream",
          "name": "stdout",
          "text": [
            "[[[0. 0. 0. 0.]\n",
            "  [0. 0. 0. 0.]\n",
            "  [0. 0. 0. 0.]]\n",
            "\n",
            " [[0. 0. 0. 0.]\n",
            "  [0. 0. 0. 0.]\n",
            "  [0. 0. 0. 0.]]]\n"
          ]
        }
      ]
    },
    {
      "cell_type": "code",
      "source": [
        "ones=np.ones((3,3))\n",
        "print(ones)"
      ],
      "metadata": {
        "colab": {
          "base_uri": "https://localhost:8080/"
        },
        "id": "AHd5EkJCGBaJ",
        "outputId": "e754f489-82d3-4c2a-bb87-509ca703cdd8"
      },
      "execution_count": null,
      "outputs": [
        {
          "output_type": "stream",
          "name": "stdout",
          "text": [
            "[[1. 1. 1.]\n",
            " [1. 1. 1.]\n",
            " [1. 1. 1.]]\n"
          ]
        }
      ]
    },
    {
      "cell_type": "code",
      "source": [
        "r=np.random.random((2,2))\n",
        "print(r)"
      ],
      "metadata": {
        "colab": {
          "base_uri": "https://localhost:8080/"
        },
        "id": "Uc8-EQeuGKuP",
        "outputId": "11b7b127-3d09-4cf6-fe42-49ae103dab58"
      },
      "execution_count": null,
      "outputs": [
        {
          "output_type": "stream",
          "name": "stdout",
          "text": [
            "[[0.12230651 0.33984309]\n",
            " [0.59041777 0.74385784]]\n"
          ]
        }
      ]
    },
    {
      "cell_type": "code",
      "source": [
        "ar=np.arange(0,9,1.5)"
      ],
      "metadata": {
        "id": "V5dcIO81Gf3E"
      },
      "execution_count": null,
      "outputs": []
    },
    {
      "cell_type": "code",
      "source": [
        "print(ar)"
      ],
      "metadata": {
        "colab": {
          "base_uri": "https://localhost:8080/"
        },
        "id": "HNm9oi97HXbU",
        "outputId": "9631827e-7608-4b52-fef1-cf16ccc45549"
      },
      "execution_count": null,
      "outputs": [
        {
          "output_type": "stream",
          "name": "stdout",
          "text": [
            "[0.  1.5 3.  4.5 6.  7.5]\n"
          ]
        }
      ]
    },
    {
      "cell_type": "code",
      "source": [
        "arr=np.array([[1,2,3],[4,5,6]])\n",
        "print('Size:',arr.size)\n",
        "print(\"Shape:\",arr.shape)\n",
        "print(\"Dimensions:\",arr.ndim)\n",
        "print(\"Datatype:\",arr.dtype)"
      ],
      "metadata": {
        "colab": {
          "base_uri": "https://localhost:8080/"
        },
        "id": "kR-t6iz_HYwe",
        "outputId": "cf9d42ce-e374-4572-8a27-aed99e53c9cc"
      },
      "execution_count": null,
      "outputs": [
        {
          "output_type": "stream",
          "name": "stdout",
          "text": [
            "Size: 6\n",
            "Shape: (2, 3)\n",
            "Dimensions: 2\n",
            "Datatype: int64\n"
          ]
        }
      ]
    },
    {
      "cell_type": "markdown",
      "source": [
        "You are working as a Data Engineer for a smart agriculture startup that collects sensor data from multiple greenhouses.\n",
        "Each greenhouse has sensors that record temperature (°C) readings at different times of the day.\n",
        "You received the following data:\n",
        "Your tasks are:\n",
        "Create NumPy arrays\n",
        "Create a 2D NumPy array named temp_data to represent the temperature readings from both greenhouses.\n",
        "Print the array.\n",
        "Check array properties\n",
        "Print the shape, size, data type, and number of dimensions of temp_data.\n",
        "Add a third greenhouse\n",
        "The third greenhouse (GH3) records [21, 23, 22].\n",
        "Create a new array updated_temp_data that includes all three greenhouses.\n",
        "Generate supporting data\n",
        "Create a zeros array (2×3) called sensor_error_flags to represent whether there were any sensor errors (0 means no error).\n",
        "Create an identity matrix of size 3×3 named greenhouse_identity to uniquely identify each greenhouse.\n",
        "Display all arrays\n",
        "Print updated_temp_data, sensor_error_flags, and greenhouse_identity."
      ],
      "metadata": {
        "id": "nFktbUHkJn1-"
      }
    },
    {
      "cell_type": "code",
      "source": [
        "temp_data=np.array([[22,25,20],[24,26,23]])\n",
        "print(temp_data)\n",
        "print(\"Size:\",temp_data.size)\n",
        "print(\"Shape:\",temp_data.shape)\n",
        "print(\"Data Type:\",temp_data.dtype)\n",
        "print(\"Dimensions:\",temp_data.ndim)"
      ],
      "metadata": {
        "colab": {
          "base_uri": "https://localhost:8080/"
        },
        "id": "3lem_X23Jr9r",
        "outputId": "c7d25605-3ea4-4384-b78d-3923d0e2dba7"
      },
      "execution_count": null,
      "outputs": [
        {
          "output_type": "stream",
          "name": "stdout",
          "text": [
            "[[22 25 20]\n",
            " [24 26 23]]\n",
            "Size: 6\n",
            "Shape: (2, 3)\n",
            "Data Type: int64\n",
            "Dimensions: 2\n"
          ]
        }
      ]
    },
    {
      "cell_type": "code",
      "source": [
        "updated_temp_data=np.append(temp_data,[[21,23,22]],axis=0)\n",
        "print(updated_temp_data)"
      ],
      "metadata": {
        "colab": {
          "base_uri": "https://localhost:8080/"
        },
        "id": "OyIz3AlnKKor",
        "outputId": "b3f3f2e9-5587-4906-f672-6acbd1b69303"
      },
      "execution_count": null,
      "outputs": [
        {
          "output_type": "stream",
          "name": "stdout",
          "text": [
            "[[22 25 20]\n",
            " [24 26 23]\n",
            " [21 23 22]]\n"
          ]
        }
      ]
    },
    {
      "cell_type": "code",
      "source": [
        "sensor_error_flags=np.zeros((2,3))\n",
        "greenhouse_identity=np.eye(3)"
      ],
      "metadata": {
        "id": "Ck8vKXLIKjLl"
      },
      "execution_count": null,
      "outputs": []
    },
    {
      "cell_type": "code",
      "source": [
        "print(\"Updated GreenHouse Data:\\n\",updated_temp_data)\n",
        "print(\"Sensor Error Flags:\\n\",sensor_error_flags)\n",
        "print(\"GreenHouse Identity:\\n\",greenhouse_identity)"
      ],
      "metadata": {
        "colab": {
          "base_uri": "https://localhost:8080/"
        },
        "id": "_AGxUSBtK9uk",
        "outputId": "a5d8c77a-047e-4caa-9d32-e85bcd52413f"
      },
      "execution_count": null,
      "outputs": [
        {
          "output_type": "stream",
          "name": "stdout",
          "text": [
            "Updated GreenHouse Data:\n",
            " [[22 25 20]\n",
            " [24 26 23]\n",
            " [21 23 22]]\n",
            "Sensor Error Flags:\n",
            " [[0. 0. 0.]\n",
            " [0. 0. 0.]]\n",
            "GreenHouse Identity:\n",
            " [[1. 0. 0.]\n",
            " [0. 1. 0.]\n",
            " [0. 0. 1.]]\n"
          ]
        }
      ]
    },
    {
      "cell_type": "code",
      "source": [
        "arr=np.array([[1,4,9],[2,0,5]])\n",
        "print(arr[:,1:3])\n",
        "print(arr[1,0:2])"
      ],
      "metadata": {
        "colab": {
          "base_uri": "https://localhost:8080/"
        },
        "id": "Ynx8y6BMLPhz",
        "outputId": "e2c8d74f-b6a3-4bd3-ea53-3b7c26ad8eab"
      },
      "execution_count": null,
      "outputs": [
        {
          "output_type": "stream",
          "name": "stdout",
          "text": [
            "[[4 9]\n",
            " [0 5]]\n",
            "[2 0]\n"
          ]
        }
      ]
    },
    {
      "cell_type": "markdown",
      "source": [
        "Indexing and Slicing:\n",
        "You are working as a Data Analyst at a fruit distribution company.\n",
        "The company stores the number of fruit boxes shipped per day (for 1 week) in a 2D NumPy array where:\n",
        "Each row represents a type of fruit.\n",
        "Each column represents a day of the week (Mon–Sun).\n",
        "\n",
        "\n",
        "Your Tasks\n",
        "Create the 2D NumPy array\n",
        "Create an array named shipments using the above data.\n",
        "Access single elements (Indexing):\n",
        "Get the number of Apples shipped on Wednesday.\n",
        "Get the number of Oranges shipped on Sunday.\n",
        "Access multiple elements (Slicing):\n",
        "Extract all the weekday shipments (Mon–Fri) for all fruits.\n",
        "Extract only the weekend shipments (Sat & Sun).\n",
        "Extract the shipments of Apples from Wednesday to Saturday.\n",
        "Bonus (Practice thinking):\n",
        "Replace the Saturday shipment of Apples (currently 80) with 100 using indexing."
      ],
      "metadata": {
        "id": "d8EPMLh9Oc1I"
      }
    },
    {
      "cell_type": "code",
      "source": [
        "shipments=np.array([[50,60,55,70,65,80,90],[40,45,50,60,55,70,75]])\n",
        "print(\"Shipments:\\n\",shipments)"
      ],
      "metadata": {
        "colab": {
          "base_uri": "https://localhost:8080/"
        },
        "id": "0POA8S--NXyO",
        "outputId": "5356958d-6658-4766-dd72-8cc77b61dcc6"
      },
      "execution_count": null,
      "outputs": [
        {
          "output_type": "stream",
          "name": "stdout",
          "text": [
            "Shipments:\n",
            " [[50 60 55 70 65 80 90]\n",
            " [40 45 50 60 55 70 75]]\n"
          ]
        }
      ]
    },
    {
      "cell_type": "code",
      "source": [
        "print(\"Number of Apples shipped on Wednesday:\",shipments[0,2])\n",
        "print(\"Number of Oranges shipped on Sunday:\",shipments[1,6])"
      ],
      "metadata": {
        "colab": {
          "base_uri": "https://localhost:8080/"
        },
        "id": "Fg2hnbuJO4X6",
        "outputId": "8a131a9e-062e-4a70-d249-c347a67e1dd4"
      },
      "execution_count": null,
      "outputs": [
        {
          "output_type": "stream",
          "name": "stdout",
          "text": [
            "Number of Apples shipped on Wednesday: 55\n",
            "Number of Oranges shipped on Sunday: 75\n"
          ]
        }
      ]
    },
    {
      "cell_type": "code",
      "source": [
        "print(\"Weekday Shipments of all fruits:\",shipments[:,0:5])"
      ],
      "metadata": {
        "colab": {
          "base_uri": "https://localhost:8080/"
        },
        "id": "ZkbHWEErPRZH",
        "outputId": "cd2211ac-b69f-4682-9108-a98ee9218784"
      },
      "execution_count": null,
      "outputs": [
        {
          "output_type": "stream",
          "name": "stdout",
          "text": [
            "Weekday Shipments of all fruits: [[50 60 55 70 65]\n",
            " [40 45 50 60 55]]\n"
          ]
        }
      ]
    },
    {
      "cell_type": "code",
      "source": [
        "print(\"Weekend Shipments of all fruits:\",shipments[:,5:7])\n",
        "print(\"Shipments of Appples from Wednesday to Saturday:\",shipments[0,2:7])"
      ],
      "metadata": {
        "colab": {
          "base_uri": "https://localhost:8080/"
        },
        "id": "3YzCpL_zPcs7",
        "outputId": "77203f50-a427-4017-cab7-e542f154f364"
      },
      "execution_count": null,
      "outputs": [
        {
          "output_type": "stream",
          "name": "stdout",
          "text": [
            "Weekend Shipments of all fruits: [[80 90]\n",
            " [70 75]]\n",
            "Shipments of Appples from Wednesday to Saturday: [55 70 65 80 90]\n"
          ]
        }
      ]
    },
    {
      "cell_type": "code",
      "source": [
        "shipments[0,5]=100\n",
        "print(shipments)"
      ],
      "metadata": {
        "colab": {
          "base_uri": "https://localhost:8080/"
        },
        "id": "uIIo6KsNPwGl",
        "outputId": "967d6b36-c2b9-44cd-c5b8-883986ad00ae"
      },
      "execution_count": null,
      "outputs": [
        {
          "output_type": "stream",
          "name": "stdout",
          "text": [
            "[[ 50  60  55  70  65 100  90]\n",
            " [ 40  45  50  60  55  70  75]]\n"
          ]
        }
      ]
    },
    {
      "cell_type": "code",
      "source": [
        "a=np.array([1,2,3])\n",
        "b=np.array([1,2,8])\n",
        "print(a+b)"
      ],
      "metadata": {
        "colab": {
          "base_uri": "https://localhost:8080/"
        },
        "id": "fY2186tVP9pW",
        "outputId": "68f7709b-cd8d-41ff-f7db-49a408da7c45"
      },
      "execution_count": null,
      "outputs": [
        {
          "output_type": "stream",
          "name": "stdout",
          "text": [
            "[ 2  4 11]\n"
          ]
        }
      ]
    },
    {
      "cell_type": "code",
      "source": [
        "print(a*b)"
      ],
      "metadata": {
        "colab": {
          "base_uri": "https://localhost:8080/"
        },
        "id": "xEjNx9AAW4tB",
        "outputId": "4a23baad-71a3-4dee-c6c7-bedab96d5269"
      },
      "execution_count": null,
      "outputs": [
        {
          "output_type": "stream",
          "name": "stdout",
          "text": [
            "[ 1  4 24]\n"
          ]
        }
      ]
    },
    {
      "cell_type": "code",
      "source": [
        "a=np.array([[1,2,3],[7,5,6]])\n",
        "print(np.cross(a,b))"
      ],
      "metadata": {
        "colab": {
          "base_uri": "https://localhost:8080/"
        },
        "id": "GN2KIy_AXBUt",
        "outputId": "b76739c4-a6f8-485c-e732-11c17e7f32c4"
      },
      "execution_count": null,
      "outputs": [
        {
          "output_type": "stream",
          "name": "stdout",
          "text": [
            "[[ 10  -5   0]\n",
            " [ 28 -50   9]]\n"
          ]
        }
      ]
    },
    {
      "cell_type": "code",
      "source": [
        "print(a+2)"
      ],
      "metadata": {
        "colab": {
          "base_uri": "https://localhost:8080/"
        },
        "id": "mOlTeByGXf0b",
        "outputId": "ddae67fe-996e-444a-8b09-4f55a7457a4b"
      },
      "execution_count": null,
      "outputs": [
        {
          "output_type": "stream",
          "name": "stdout",
          "text": [
            "[[3 4 5]\n",
            " [9 7 8]]\n"
          ]
        }
      ]
    },
    {
      "cell_type": "code",
      "source": [
        "arr=np.array([3,6,9])\n",
        "print(\"Exponent:\",np.exp(arr))"
      ],
      "metadata": {
        "id": "nnBMm7E9ZFd4",
        "colab": {
          "base_uri": "https://localhost:8080/"
        },
        "outputId": "a0478181-8d3b-4010-fbf2-b091e8c60015"
      },
      "execution_count": null,
      "outputs": [
        {
          "output_type": "stream",
          "name": "stdout",
          "text": [
            "Exponent: [  20.08553692  403.42879349 8103.08392758]\n"
          ]
        }
      ]
    },
    {
      "cell_type": "code",
      "source": [
        "print(\"Logarithmic:\",np.log(arr))\n",
        "print(\"Square Root:\",np.sqrt(arr))\n",
        "print(\"Exp1:\",np.expm1(arr))"
      ],
      "metadata": {
        "colab": {
          "base_uri": "https://localhost:8080/"
        },
        "id": "_1hB-GbQavxM",
        "outputId": "6a26b2f5-8e59-4d64-91a0-791959d678bb"
      },
      "execution_count": null,
      "outputs": [
        {
          "output_type": "stream",
          "name": "stdout",
          "text": [
            "Logarithmic: [1.09861229 1.79175947 2.19722458]\n",
            "Square Root: [1.73205081 2.44948974 3.        ]\n",
            "Exp1: [  19.08553692  402.42879349 8102.08392758]\n"
          ]
        }
      ]
    },
    {
      "cell_type": "code",
      "source": [
        "print(\"Sin:\",np.sin(arr))\n",
        "print(\"Cos:\",np.cos(arr))\n",
        "print(\"Tan:\",np.tan(arr))"
      ],
      "metadata": {
        "colab": {
          "base_uri": "https://localhost:8080/"
        },
        "id": "Xzx45pLqa8s8",
        "outputId": "13a0366b-8adb-4e03-97db-fca0277e80b7"
      },
      "execution_count": null,
      "outputs": [
        {
          "output_type": "stream",
          "name": "stdout",
          "text": [
            "Sin: [ 0.14112001 -0.2794155   0.41211849]\n",
            "Cos: [-0.9899925   0.96017029 -0.91113026]\n",
            "Tan: [-0.14254654 -0.29100619 -0.45231566]\n"
          ]
        }
      ]
    },
    {
      "cell_type": "code",
      "source": [
        "print(\"Radians:\",np.radians(arr))"
      ],
      "metadata": {
        "colab": {
          "base_uri": "https://localhost:8080/"
        },
        "id": "T65ZKV06bS0t",
        "outputId": "d082d574-43b5-4a5f-9ddd-3c5693273bef"
      },
      "execution_count": null,
      "outputs": [
        {
          "output_type": "stream",
          "name": "stdout",
          "text": [
            "Radians: [0.05235988 0.10471976 0.15707963]\n"
          ]
        }
      ]
    },
    {
      "cell_type": "code",
      "source": [
        "print(\"Degrees:\",np.degrees(arr))"
      ],
      "metadata": {
        "colab": {
          "base_uri": "https://localhost:8080/"
        },
        "id": "1OshK1dxbmB2",
        "outputId": "72374eaf-97ce-4417-d4d2-11380e4c7ad3"
      },
      "execution_count": null,
      "outputs": [
        {
          "output_type": "stream",
          "name": "stdout",
          "text": [
            "Degrees: [171.88733854 343.77467708 515.66201562]\n"
          ]
        }
      ]
    },
    {
      "cell_type": "code",
      "source": [
        "print(np.trunc(9.999999))"
      ],
      "metadata": {
        "colab": {
          "base_uri": "https://localhost:8080/"
        },
        "id": "LxMcmQugbpJb",
        "outputId": "077f3432-b4e6-47ad-c146-888fb9519ac1"
      },
      "execution_count": null,
      "outputs": [
        {
          "output_type": "stream",
          "name": "stdout",
          "text": [
            "9.0\n"
          ]
        }
      ]
    },
    {
      "cell_type": "markdown",
      "source": [],
      "metadata": {
        "id": "vSbH0d02eNDi"
      }
    },
    {
      "cell_type": "code",
      "source": [
        "np.prod(arr)"
      ],
      "metadata": {
        "colab": {
          "base_uri": "https://localhost:8080/"
        },
        "id": "JxLJ1QfPbxIq",
        "outputId": "fdde4af1-94d6-4525-8fe5-3da2be8af7ef"
      },
      "execution_count": null,
      "outputs": [
        {
          "output_type": "execute_result",
          "data": {
            "text/plain": [
              "np.int64(162)"
            ]
          },
          "metadata": {},
          "execution_count": 49
        }
      ]
    },
    {
      "cell_type": "code",
      "source": [
        "np.logical_xor(0,1)"
      ],
      "metadata": {
        "colab": {
          "base_uri": "https://localhost:8080/"
        },
        "id": "1_Rcsb3UcDty",
        "outputId": "84392a06-fc7d-4a70-cb02-5ee7e7d1b426"
      },
      "execution_count": null,
      "outputs": [
        {
          "output_type": "execute_result",
          "data": {
            "text/plain": [
              "np.True_"
            ]
          },
          "metadata": {},
          "execution_count": 62
        }
      ]
    },
    {
      "cell_type": "code",
      "source": [
        "print(np.not_equal(13,15))"
      ],
      "metadata": {
        "colab": {
          "base_uri": "https://localhost:8080/"
        },
        "id": "p7D2Bq1zcZx5",
        "outputId": "579a82a5-bdab-4349-dca4-3933ff331efe"
      },
      "execution_count": null,
      "outputs": [
        {
          "output_type": "stream",
          "name": "stdout",
          "text": [
            "True\n"
          ]
        }
      ]
    },
    {
      "cell_type": "code",
      "source": [
        "np.bitwise_or(2,3)"
      ],
      "metadata": {
        "colab": {
          "base_uri": "https://localhost:8080/"
        },
        "id": "lDeZsPYSdkfg",
        "outputId": "07b386ff-d3b0-439c-c6d1-09691fb70043"
      },
      "execution_count": null,
      "outputs": [
        {
          "output_type": "execute_result",
          "data": {
            "text/plain": [
              "np.int64(3)"
            ]
          },
          "metadata": {},
          "execution_count": 74
        }
      ]
    },
    {
      "cell_type": "markdown",
      "source": [
        "You are a data engineer at a renewable-energy company that runs 3 solar farms.\n",
        "\n",
        "Each farm has 4 solar panels, and each panel reports hourly energy production (kWh) for 3 hours during a test window.\n",
        "\n",
        "Given data (raw)\n",
        "Create arrays from these values:\n",
        "production — shape (3 farms × 4 panels × 3 hours) represented as a 2D array per farm (you can stack/create as shown in tasks).\n",
        "Farm A panels (rows = panels, cols = hours):\n",
        "\n",
        "\n",
        "Tasks\n",
        "Create arrays\n",
        "Create three 2D NumPy arrays farmA, farmB, farmC (each shape (4,3)).\n",
        "Stack them into a single 3D array production_all of shape (3, 4, 3).\n",
        "Array attributes\n",
        "Print the .shape, .size, .dtype, and .ndim of production_all.\n",
        "Per-farm totals (arithmetic & aggregation)\n",
        "Use aggregation ufuncs to compute the total energy per farm (sum across panels & hours) → total_per_farm (shape (3,)).\n",
        "Compute mean, std, and var per farm.\n",
        "Per-hour matrix multiplication idea (matrix op)\n",
        "For a quick weighted estimate, create a hour_weights row vector of shape (3,) = [0.5, 1.0, 0.75] (weights for hour1, hour2, hour3).\n",
        "Compute weighted_per_panel by performing a dot product between each farm's panel-row and hour_weights to get per-panel weighted energy. (Use np.dot / matrix multiplication appropriately.)\n",
        "Broadcasting adjustments\n",
        "The operator notices a fixed calibration offset of +0.5 kWh for all panels in Farm B. Use broadcasting to add this offset to Farm B data inside production_all (without recreating whole array manually).\n",
        "Element-wise arithmetic (ufuncs: add/sub/mul/div/power/mod)\n",
        "Compute a normalized version where you:\n",
        "subtract the per-farm mean (use broadcasting),\n",
        "divide by the per-farm std (broadcasting) — i.e., z-score normalize each farm's panel-hour readings.\n",
        "Apply many ufuncs (use the ufuncs listed previously)\n",
        "\n",
        "Apply the following element-wise operations (create variables for each) on the normalized data (or a copy) and show the resulting arrays (or summaries — shape/dtype/first row) where appropriate:\n",
        "Exponential family: np.exp, np.expm1, np.log (note: handle non-positive inputs if needed), np.log10, np.log2.\n",
        "Trigonometric: np.sin, np.cos, np.tan, np.arcsin, np.arccos, np.arctan, plus np.degrees, np.radians applied appropriately.\n",
        "Rounding: np.round, np.floor, np.ceil, np.trunc.\n",
        "Comparison & logical ufuncs: create a boolean mask high_output = production_all > 20 and apply np.logical_and, np.logical_or, np.logical_not, np.logical_xor combining masks (e.g., high_output and even_hours_mask). Also use comparison ufuncs like np.greater_equal, np.less.\n",
        "Bitwise ufuncs (on integer arrays): create an integer array alerts = np.array([[1,0,1],[0,0,1],[1,1,0],[0,1,0]]) for each farm (shape match required) — then apply np.bitwise_and, np.bitwise_or, np.invert where sensible.\n",
        "Arithmetic ufuncs again: np.add, np.subtract, np.multiply, np.divide, np.power, np.mod.\n",
        "Aggregations over ufunc outputs: e.g., np.sum(np.exp(...)), np.mean(np.sin(...)).\n",
        "Broadcast-based summary table\n",
        "Use broadcasting to compute a (3,4) array panel_totals_per_farm = total per panel (sum across hours for each panel), and then compute a (3,) boolean needs_maintenance saying True if any panel in that farm has total < 40. Use np.min, np.max, np.any, np.all.\n",
        "Final KPIs (aggregation)\n",
        "Compute:\n",
        "overall_total (sum of all farms),\n",
        "peak_hour value (max across hours) and which farm & panel produced it (use np.argmax with careful unraveling),\n",
        "average_per_panel across all farms.\n",
        "\n"
      ],
      "metadata": {
        "id": "CmiOcHkAeN3O"
      }
    },
    {
      "cell_type": "code",
      "source": [
        "production=np.empty((3,4,3))\n",
        "production.shape"
      ],
      "metadata": {
        "colab": {
          "base_uri": "https://localhost:8080/"
        },
        "id": "OZDs7ZEed6xf",
        "outputId": "98753d76-08c8-4759-8fb2-ecf915e9ca11"
      },
      "execution_count": null,
      "outputs": [
        {
          "output_type": "execute_result",
          "data": {
            "text/plain": [
              "(3, 4, 3)"
            ]
          },
          "metadata": {},
          "execution_count": 97
        }
      ]
    },
    {
      "cell_type": "code",
      "source": [
        "print(\"Prodcution:\\n\",production)"
      ],
      "metadata": {
        "colab": {
          "base_uri": "https://localhost:8080/"
        },
        "id": "f_FuzM8Nebpn",
        "outputId": "83831ac6-0f69-49f1-99bd-f85934938c08"
      },
      "execution_count": null,
      "outputs": [
        {
          "output_type": "stream",
          "name": "stdout",
          "text": [
            "Prodcution:\n",
            " [[[10 12 11]\n",
            "  [ 9 11 10]\n",
            "  [12 13 14]\n",
            "  [ 8  7  9]]\n",
            "\n",
            " [[20 19 21]\n",
            "  [18 20 19]\n",
            "  [22 23 21]\n",
            "  [17 18 16]]\n",
            "\n",
            " [[15 16 14]\n",
            "  [14 13 15]\n",
            "  [16 17 18]\n",
            "  [12 11 13]]]\n"
          ]
        }
      ]
    },
    {
      "cell_type": "code",
      "source": [
        "farmA=np.array([[10,12,11],[9,11,10],[12,13,14],[8,7,9]])\n",
        "farmB=np.array([[20,19,21],[18,20,19],[22,23,21],[17,18,16]])\n",
        "farmC=np.array([[15,16,14],[14,13,15],[16,17,18],[12,11,13]])\n",
        "farmA.shape"
      ],
      "metadata": {
        "colab": {
          "base_uri": "https://localhost:8080/"
        },
        "id": "4O7nN03Uet3_",
        "outputId": "e80f5f0a-b3fe-4b01-8a17-505d20836625"
      },
      "execution_count": null,
      "outputs": [
        {
          "output_type": "execute_result",
          "data": {
            "text/plain": [
              "(4, 3)"
            ]
          },
          "metadata": {},
          "execution_count": 98
        }
      ]
    },
    {
      "cell_type": "code",
      "source": [
        "production_all=np.empty((3,4,3))\n",
        "production_all=np.stack((farmA,farmB,farmC),axis=0)\n",
        "print(production_all)"
      ],
      "metadata": {
        "colab": {
          "base_uri": "https://localhost:8080/"
        },
        "id": "42eeia23fpjF",
        "outputId": "bfeb1bc8-a95f-41ad-8e74-4921708eafee"
      },
      "execution_count": null,
      "outputs": [
        {
          "output_type": "stream",
          "name": "stdout",
          "text": [
            "[[[10 12 11]\n",
            "  [ 9 11 10]\n",
            "  [12 13 14]\n",
            "  [ 8  7  9]]\n",
            "\n",
            " [[20 19 21]\n",
            "  [18 20 19]\n",
            "  [22 23 21]\n",
            "  [17 18 16]]\n",
            "\n",
            " [[15 16 14]\n",
            "  [14 13 15]\n",
            "  [16 17 18]\n",
            "  [12 11 13]]]\n"
          ]
        }
      ]
    },
    {
      "cell_type": "code",
      "source": [
        "print('Shape:',production_all.shape)\n",
        "print('Size:',production_all.size)\n",
        "print('Data Type:',production_all.dtype)\n",
        "print('Dimensions:',production_all.ndim)"
      ],
      "metadata": {
        "colab": {
          "base_uri": "https://localhost:8080/"
        },
        "id": "C99Ya8cdgw3G",
        "outputId": "7bd59d83-af47-4c5e-ed9a-b3f8c5700002"
      },
      "execution_count": null,
      "outputs": [
        {
          "output_type": "stream",
          "name": "stdout",
          "text": [
            "Shape: (3, 4, 3)\n",
            "Size: 36\n",
            "Data Type: int64\n",
            "Dimensions: 3\n"
          ]
        }
      ]
    },
    {
      "cell_type": "code",
      "source": [
        "total_per_farm=np.sum(production_all,axis=(1,2))\n",
        "print(\"Sum:\",total_per_farm)\n",
        "print(\"Mean:\",np.mean(production_all,axis=(1,2)))\n",
        "print(\"Variance:\",np.var(production_all,axis=(1,2)))\n",
        "print(\"Standard Deviation:\",np.std(production_all,axis=(1,2)))"
      ],
      "metadata": {
        "colab": {
          "base_uri": "https://localhost:8080/"
        },
        "id": "sX9u95j7iYGJ",
        "outputId": "0ca5f661-087f-4950-8b16-66053c651fac"
      },
      "execution_count": null,
      "outputs": [
        {
          "output_type": "stream",
          "name": "stdout",
          "text": [
            "Sum: [126 234 174]\n",
            "Mean: [10.5 19.5 14.5]\n",
            "Variance: [3.91666667 3.91666667 3.91666667]\n",
            "Standard Deviation: [1.97905701 1.97905701 1.97905701]\n"
          ]
        }
      ]
    },
    {
      "cell_type": "code",
      "source": [
        "hour_weights=np.array([0.5,1.0,0.75])\n",
        "weighted_per_panel=np.dot(production_all,hour_weights)\n",
        "print(\"Weighted per panel:\\n\",weighted_per_panel)\n"
      ],
      "metadata": {
        "colab": {
          "base_uri": "https://localhost:8080/"
        },
        "id": "ub1mlQ2_ifg5",
        "outputId": "e808a05e-fd01-4b23-b0f5-6dc00a5a6a35"
      },
      "execution_count": null,
      "outputs": [
        {
          "output_type": "stream",
          "name": "stdout",
          "text": [
            "Weighted per panel:\n",
            " [[25.25 23.   29.5  17.75]\n",
            " [44.75 43.25 49.75 38.5 ]\n",
            " [34.   31.25 38.5  26.75]]\n"
          ]
        }
      ]
    },
    {
      "cell_type": "code",
      "source": [
        "production_all=production_all.astype('float64')\n",
        "production_all[1,:,:]+=0.5\n",
        "print(production_all)"
      ],
      "metadata": {
        "colab": {
          "base_uri": "https://localhost:8080/"
        },
        "id": "Wdon1lsCxXwV",
        "outputId": "7d2e56c3-6fea-47e2-efc0-7da83f91ac95"
      },
      "execution_count": null,
      "outputs": [
        {
          "output_type": "stream",
          "name": "stdout",
          "text": [
            "[[[10.  12.  11. ]\n",
            "  [ 9.  11.  10. ]\n",
            "  [12.  13.  14. ]\n",
            "  [ 8.   7.   9. ]]\n",
            "\n",
            " [[20.5 19.5 21.5]\n",
            "  [18.5 20.5 19.5]\n",
            "  [22.5 23.5 21.5]\n",
            "  [17.5 18.5 16.5]]\n",
            "\n",
            " [[15.  16.  14. ]\n",
            "  [14.  13.  15. ]\n",
            "  [16.  17.  18. ]\n",
            "  [12.  11.  13. ]]]\n"
          ]
        }
      ]
    },
    {
      "cell_type": "code",
      "source": [
        "normalized=production_all-np.mean(production_all,axis=(1,2))\n",
        "print(normalized)"
      ],
      "metadata": {
        "colab": {
          "base_uri": "https://localhost:8080/"
        },
        "id": "PAqyJ4GBxtPk",
        "outputId": "f9f4f11c-79d6-4063-e813-0a845d5297aa"
      },
      "execution_count": null,
      "outputs": [
        {
          "output_type": "stream",
          "name": "stdout",
          "text": [
            "[[[ -0.5  -8.   -3.5]\n",
            "  [ -1.5  -9.   -4.5]\n",
            "  [  1.5  -7.   -0.5]\n",
            "  [ -2.5 -13.   -5.5]]\n",
            "\n",
            " [[ 10.   -0.5   7. ]\n",
            "  [  8.    0.5   5. ]\n",
            "  [ 12.    3.5   7. ]\n",
            "  [  7.   -1.5   2. ]]\n",
            "\n",
            " [[  4.5  -4.   -0.5]\n",
            "  [  3.5  -7.    0.5]\n",
            "  [  5.5  -3.    3.5]\n",
            "  [  1.5  -9.   -1.5]]]\n"
          ]
        }
      ]
    },
    {
      "cell_type": "code",
      "source": [
        "std=np.std(production_all,axis=(1,2))\n",
        "normalized=normalized/std\n",
        "print(normalized)"
      ],
      "metadata": {
        "colab": {
          "base_uri": "https://localhost:8080/"
        },
        "id": "Bjmrvie4zBqQ",
        "outputId": "9e1a80f6-a845-4a7b-946f-c972e5e98a41"
      },
      "execution_count": null,
      "outputs": [
        {
          "output_type": "stream",
          "name": "stdout",
          "text": [
            "[[[-0.25264558 -4.04232922 -1.76851903]\n",
            "  [-0.75793673 -4.54762037 -2.27381019]\n",
            "  [ 0.75793673 -3.53703807 -0.25264558]\n",
            "  [-1.26322788 -6.56878498 -2.77910134]]\n",
            "\n",
            " [[ 5.05291153 -0.25264558  3.53703807]\n",
            "  [ 4.04232922  0.25264558  2.52645576]\n",
            "  [ 6.06349383  1.76851903  3.53703807]\n",
            "  [ 3.53703807 -0.75793673  1.01058231]]\n",
            "\n",
            " [[ 2.27381019 -2.02116461 -0.25264558]\n",
            "  [ 1.76851903 -3.53703807  0.25264558]\n",
            "  [ 2.77910134 -1.51587346  1.76851903]\n",
            "  [ 0.75793673 -4.54762037 -0.75793673]]]\n"
          ]
        }
      ]
    },
    {
      "cell_type": "code",
      "source": [
        "print(\"Exp:\\n\",np.exp(normalized))\n",
        "print(\"Empm1:\\n\",np.expm1(normalized))\n",
        "print(\"Log:\\n\",np.log(normalized))\n",
        "print(\"Log base 10:\\n\",np.log10(normalized))\n",
        "print(\"Log base 2:\\n\",np.log2(normalized))"
      ],
      "metadata": {
        "id": "BINW-ZPnzZh3",
        "colab": {
          "base_uri": "https://localhost:8080/"
        },
        "outputId": "4cd5eca8-9560-4768-81a2-edae78edfc61"
      },
      "execution_count": null,
      "outputs": [
        {
          "output_type": "stream",
          "name": "stdout",
          "text": [
            "Exp:\n",
            " [[[7.76743129e-01 1.75565317e-02 1.70585433e-01]\n",
            "  [4.68632346e-01 1.05923803e-02 1.02919290e-01]\n",
            "  [2.13386893e+00 2.90993900e-02 7.76743129e-01]\n",
            "  [2.82739901e-01 1.40350165e-03 6.20942840e-02]]\n",
            "\n",
            " [[1.56477390e+02 7.76743129e-01 3.43649816e+01]\n",
            "  [5.69588582e+01 1.28742690e+00 1.25090923e+01]\n",
            "  [4.29874726e+02 5.86216526e+00 3.43649816e+01]\n",
            "  [3.43649816e+01 4.68632346e-01 2.74720026e+00]]\n",
            "\n",
            " [[9.71635149e+00 1.32501063e-01 7.76743129e-01]\n",
            "  [5.86216526e+00 2.90993900e-02 1.28742690e+00]\n",
            "  [1.61045419e+01 2.19616275e-01 5.86216526e+00]\n",
            "  [2.13386893e+00 1.05923803e-02 4.68632346e-01]]]\n",
            "Empm1:\n",
            " [[[-2.23256871e-01 -9.82443468e-01 -8.29414567e-01]\n",
            "  [-5.31367654e-01 -9.89407620e-01 -8.97080710e-01]\n",
            "  [ 1.13386893e+00 -9.70900610e-01 -2.23256871e-01]\n",
            "  [-7.17260099e-01 -9.98596498e-01 -9.37905716e-01]]\n",
            "\n",
            " [[ 1.55477390e+02 -2.23256871e-01  3.33649816e+01]\n",
            "  [ 5.59588582e+01  2.87426901e-01  1.15090923e+01]\n",
            "  [ 4.28874726e+02  4.86216526e+00  3.33649816e+01]\n",
            "  [ 3.33649816e+01 -5.31367654e-01  1.74720026e+00]]\n",
            "\n",
            " [[ 8.71635149e+00 -8.67498937e-01 -2.23256871e-01]\n",
            "  [ 4.86216526e+00 -9.70900610e-01  2.87426901e-01]\n",
            "  [ 1.51045419e+01 -7.80383725e-01  4.86216526e+00]\n",
            "  [ 1.13386893e+00 -9.89407620e-01 -5.31367654e-01]]]\n",
            "Log:\n",
            " [[[        nan         nan         nan]\n",
            "  [        nan         nan         nan]\n",
            "  [-0.27715537         nan         nan]\n",
            "  [        nan         nan         nan]]\n",
            "\n",
            " [[ 1.61996462         nan  1.26328967]\n",
            "  [ 1.39682107 -1.37576766  0.92681744]\n",
            "  [ 1.80228617  0.57014249  1.26328967]\n",
            "  [ 1.26328967         nan  0.0105267 ]]\n",
            "\n",
            " [[ 0.82145692         nan         nan]\n",
            "  [ 0.57014249         nan -1.37576766]\n",
            "  [ 1.02212762         nan  0.57014249]\n",
            "  [-0.27715537         nan         nan]]]\n",
            "Log base 10:\n",
            " [[[        nan         nan         nan]\n",
            "  [        nan         nan         nan]\n",
            "  [-0.12036705         nan         nan]\n",
            "  [        nan         nan         nan]]\n",
            "\n",
            " [[ 0.70354169         nan  0.54863973]\n",
            "  [ 0.60663168 -0.5974883   0.4025117 ]\n",
            "  [ 0.78272294  0.24760974  0.54863973]\n",
            "  [ 0.54863973         nan  0.00457169]]\n",
            "\n",
            " [[ 0.35675421         nan         nan]\n",
            "  [ 0.24760974         nan -0.5974883 ]\n",
            "  [ 0.44390438         nan  0.24760974]\n",
            "  [-0.12036705         nan         nan]]]\n",
            "Log base 2:\n",
            " [[[        nan         nan         nan]\n",
            "  [        nan         nan         nan]\n",
            "  [-0.39985067         nan         nan]\n",
            "  [        nan         nan         nan]]\n",
            "\n",
            " [[ 2.33711492         nan  1.82254175]\n",
            "  [ 2.01518682 -1.98481318  1.33711492]\n",
            "  [ 2.60014933  0.82254175  1.82254175]\n",
            "  [ 1.82254175         nan  0.01518682]]\n",
            "\n",
            " [[ 1.18511183         nan         nan]\n",
            "  [ 0.82254175         nan -1.98481318]\n",
            "  [ 1.47461844         nan  0.82254175]\n",
            "  [-0.39985067         nan         nan]]]\n"
          ]
        },
        {
          "output_type": "stream",
          "name": "stderr",
          "text": [
            "/tmp/ipython-input-2089459705.py:3: RuntimeWarning: invalid value encountered in log\n",
            "  print(\"Log:\\n\",np.log(normalized))\n",
            "/tmp/ipython-input-2089459705.py:4: RuntimeWarning: invalid value encountered in log10\n",
            "  print(\"Log base 10:\\n\",np.log10(normalized))\n",
            "/tmp/ipython-input-2089459705.py:5: RuntimeWarning: invalid value encountered in log2\n",
            "  print(\"Log base 2:\\n\",np.log2(normalized))\n"
          ]
        }
      ]
    },
    {
      "cell_type": "code",
      "source": [
        "print(\"Trignometric Functions\\n\")\n",
        "print(\"Sin:\",np.sin(normalized))\n",
        "print(\"Cos:\",np.cos(normalized))\n",
        "print(\"Tan:\",np.tan(normalized))\n",
        "print(\"arcsin:\",np.arcsin(normalized))\n",
        "print(\"arccos:\",np.arccos(normalized))\n",
        "print(\"arctan:\",np.arctan(normalized))\n",
        "print(\"degrees:\",np.degrees(normalized))\n",
        "print(\"Radians:\",np.radians(normalized))"
      ],
      "metadata": {
        "colab": {
          "base_uri": "https://localhost:8080/"
        },
        "id": "5yVsnVdU0KfM",
        "outputId": "516f8b34-17bb-4576-bc4c-5deabc4a279f"
      },
      "execution_count": null,
      "outputs": [
        {
          "output_type": "stream",
          "name": "stdout",
          "text": [
            "Trignometric Functions\n",
            "\n",
            "Sin: [[[-0.24996642  0.78378455 -0.98051646]\n",
            "  [-0.68742445  0.98645634 -0.76289713]\n",
            "  [ 0.68742445  0.38521927 -0.24996642]\n",
            "  [-0.95307252 -0.28173289 -0.35460475]]\n",
            "\n",
            " [[-0.94258027 -0.24996642 -0.38521927]\n",
            "  [-0.78378455  0.24996642  0.57707033]\n",
            "  [-0.21792852  0.98051646 -0.38521927]\n",
            "  [-0.38521927 -0.68742445  0.84714141]]\n",
            "\n",
            " [[ 0.76289713 -0.90028685 -0.24996642]\n",
            "  [ 0.98051646  0.38521927  0.24996642]\n",
            "  [ 0.35460475 -0.99849212  0.98051646]\n",
            "  [ 0.68742445  0.98645634 -0.68742445]]]\n",
            "Cos: [[[ 0.96825451 -0.62103283 -0.19643692]\n",
            "  [ 0.7262559  -0.16402408 -0.64651989]\n",
            "  [ 0.7262559  -0.92282507  0.96825451]\n",
            "  [ 0.30274209  0.95949288 -0.93501629]]\n",
            "\n",
            " [[ 0.33397968  0.96825451 -0.92282507]\n",
            "  [-0.62103283  0.96825451 -0.81669446]\n",
            "  [ 0.97596473 -0.19643692 -0.92282507]\n",
            "  [-0.92282507  0.7262559   0.53136752]]\n",
            "\n",
            " [[-0.64651989 -0.43529712  0.96825451]\n",
            "  [-0.19643692 -0.92282507  0.96825451]\n",
            "  [-0.93501629  0.05489526 -0.19643692]\n",
            "  [ 0.7262559  -0.16402408  0.7262559 ]]]\n",
            "Tan: [[[ -0.2581619   -1.26206622   4.99150805]\n",
            "  [ -0.946532    -6.01409476   1.18000568]\n",
            "  [  0.946532    -0.41743476  -0.2581619 ]\n",
            "  [ -3.14813356  -0.29362687   0.37924981]]\n",
            "\n",
            " [[ -2.82226834  -0.2581619    0.41743476]\n",
            "  [  1.26206622   0.2581619   -0.70659268]\n",
            "  [ -0.22329549  -4.99150805   0.41743476]\n",
            "  [  0.41743476  -0.946532     1.59426645]]\n",
            "\n",
            " [[ -1.18000568   2.06821226  -0.2581619 ]\n",
            "  [ -4.99150805  -0.41743476   0.2581619 ]\n",
            "  [ -0.37924981 -18.18904058  -4.99150805]\n",
            "  [  0.946532    -6.01409476  -0.946532  ]]]\n",
            "arcsin: [[[-0.25541356         nan         nan]\n",
            "  [-0.86014434         nan         nan]\n",
            "  [ 0.86014434         nan -0.25541356]\n",
            "  [        nan         nan         nan]]\n",
            "\n",
            " [[        nan -0.25541356         nan]\n",
            "  [        nan  0.25541356         nan]\n",
            "  [        nan         nan         nan]\n",
            "  [        nan -0.86014434         nan]]\n",
            "\n",
            " [[        nan         nan -0.25541356]\n",
            "  [        nan         nan  0.25541356]\n",
            "  [        nan         nan         nan]\n",
            "  [ 0.86014434         nan -0.86014434]]]\n",
            "arccos: [[[1.82620989        nan        nan]\n",
            "  [2.43094067        nan        nan]\n",
            "  [0.71065199        nan 1.82620989]\n",
            "  [       nan        nan        nan]]\n",
            "\n",
            " [[       nan 1.82620989        nan]\n",
            "  [       nan 1.31538276        nan]\n",
            "  [       nan        nan        nan]\n",
            "  [       nan 2.43094067        nan]]\n",
            "\n",
            " [[       nan        nan 1.82620989]\n",
            "  [       nan        nan 1.31538276]\n",
            "  [       nan        nan        nan]\n",
            "  [0.71065199        nan 2.43094067]]]\n",
            "arctan: [[[-0.24746706 -1.32828306 -1.05617264]\n",
            "  [-0.64856129 -1.35434596 -1.15646503]\n",
            "  [ 0.64856129 -1.2952649  -0.24746706]\n",
            "  [-0.90118434 -1.41972113 -1.22539254]]\n",
            "\n",
            " [[ 1.37541532 -0.24746706  1.2952649 ]\n",
            "  [ 1.32828306  0.24746706  1.19390602]\n",
            "  [ 1.40734621  1.05617264  1.2952649 ]\n",
            "  [ 1.2952649  -0.64856129  0.79066142]]\n",
            "\n",
            " [[ 1.15646503 -1.11134608 -0.24746706]\n",
            "  [ 1.05617264 -1.2952649   0.24746706]\n",
            "  [ 1.22539254 -0.9876423   1.05617264]\n",
            "  [ 0.64856129 -1.35434596 -0.64856129]]]\n",
            "degrees: [[[ -14.47552524 -231.60840377 -101.32867665]\n",
            "  [ -43.42657571 -260.55945424 -130.27972712]\n",
            "  [  43.42657571 -202.6573533   -14.47552524]\n",
            "  [ -72.37762618 -376.36365613 -159.23077759]]\n",
            "\n",
            " [[ 289.51050472  -14.47552524  202.6573533 ]\n",
            "  [ 231.60840377   14.47552524  144.75525236]\n",
            "  [ 347.41260566  101.32867665  202.6573533 ]\n",
            "  [ 202.6573533   -43.42657571   57.90210094]]\n",
            "\n",
            " [[ 130.27972712 -115.80420189  -14.47552524]\n",
            "  [ 101.32867665 -202.6573533    14.47552524]\n",
            "  [ 159.23077759  -86.85315141  101.32867665]\n",
            "  [  43.42657571 -260.55945424  -43.42657571]]]\n",
            "Radians: [[[-0.0044095  -0.07055195 -0.03086648]\n",
            "  [-0.01322849 -0.07937095 -0.03968547]\n",
            "  [ 0.01322849 -0.06173296 -0.0044095 ]\n",
            "  [-0.02204749 -0.11464693 -0.04850447]]\n",
            "\n",
            " [[ 0.08818994 -0.0044095   0.06173296]\n",
            "  [ 0.07055195  0.0044095   0.04409497]\n",
            "  [ 0.10582793  0.03086648  0.06173296]\n",
            "  [ 0.06173296 -0.01322849  0.01763799]]\n",
            "\n",
            " [[ 0.03968547 -0.03527598 -0.0044095 ]\n",
            "  [ 0.03086648 -0.06173296  0.0044095 ]\n",
            "  [ 0.04850447 -0.02645698  0.03086648]\n",
            "  [ 0.01322849 -0.07937095 -0.01322849]]]\n"
          ]
        },
        {
          "output_type": "stream",
          "name": "stderr",
          "text": [
            "/tmp/ipython-input-1878536153.py:5: RuntimeWarning: invalid value encountered in arcsin\n",
            "  print(\"arcsin:\",np.arcsin(normalized))\n",
            "/tmp/ipython-input-1878536153.py:6: RuntimeWarning: invalid value encountered in arccos\n",
            "  print(\"arccos:\",np.arccos(normalized))\n"
          ]
        }
      ]
    },
    {
      "cell_type": "code",
      "metadata": {
        "colab": {
          "base_uri": "https://localhost:8080/"
        },
        "id": "79d13f93",
        "outputId": "12bf4b17-aa4f-4840-958b-669b88fa7604"
      },
      "source": [
        "print(\"Rounding Functions\\n\")\n",
        "print(\"Round:\", np.round(normalized))\n",
        "print(\"Floor:\", np.floor(normalized))\n",
        "print(\"Ceil:\", np.ceil(normalized))\n",
        "print(\"Trunc:\", np.trunc(normalized))"
      ],
      "execution_count": null,
      "outputs": [
        {
          "output_type": "stream",
          "name": "stdout",
          "text": [
            "Rounding Functions\n",
            "\n",
            "Round: [[[-0. -4. -2.]\n",
            "  [-1. -5. -2.]\n",
            "  [ 1. -4. -0.]\n",
            "  [-1. -7. -3.]]\n",
            "\n",
            " [[ 5. -0.  4.]\n",
            "  [ 4.  0.  3.]\n",
            "  [ 6.  2.  4.]\n",
            "  [ 4. -1.  1.]]\n",
            "\n",
            " [[ 2. -2. -0.]\n",
            "  [ 2. -4.  0.]\n",
            "  [ 3. -2.  2.]\n",
            "  [ 1. -5. -1.]]]\n",
            "Floor: [[[-1. -5. -2.]\n",
            "  [-1. -5. -3.]\n",
            "  [ 0. -4. -1.]\n",
            "  [-2. -7. -3.]]\n",
            "\n",
            " [[ 5. -1.  3.]\n",
            "  [ 4.  0.  2.]\n",
            "  [ 6.  1.  3.]\n",
            "  [ 3. -1.  1.]]\n",
            "\n",
            " [[ 2. -3. -1.]\n",
            "  [ 1. -4.  0.]\n",
            "  [ 2. -2.  1.]\n",
            "  [ 0. -5. -1.]]]\n",
            "Ceil: [[[-0. -4. -1.]\n",
            "  [-0. -4. -2.]\n",
            "  [ 1. -3. -0.]\n",
            "  [-1. -6. -2.]]\n",
            "\n",
            " [[ 6. -0.  4.]\n",
            "  [ 5.  1.  3.]\n",
            "  [ 7.  2.  4.]\n",
            "  [ 4. -0.  2.]]\n",
            "\n",
            " [[ 3. -2. -0.]\n",
            "  [ 2. -3.  1.]\n",
            "  [ 3. -1.  2.]\n",
            "  [ 1. -4. -0.]]]\n",
            "Trunc: [[[-0. -4. -1.]\n",
            "  [-0. -4. -2.]\n",
            "  [ 0. -3. -0.]\n",
            "  [-1. -6. -2.]]\n",
            "\n",
            " [[ 5. -0.  3.]\n",
            "  [ 4.  0.  2.]\n",
            "  [ 6.  1.  3.]\n",
            "  [ 3. -0.  1.]]\n",
            "\n",
            " [[ 2. -2. -0.]\n",
            "  [ 1. -3.  0.]\n",
            "  [ 2. -1.  1.]\n",
            "  [ 0. -4. -0.]]]\n"
          ]
        }
      ]
    },
    {
      "cell_type": "code",
      "metadata": {
        "colab": {
          "base_uri": "https://localhost:8080/"
        },
        "id": "91219b8e",
        "outputId": "4b22d9f5-9244-42ad-8a85-a1b8f64579b2"
      },
      "source": [
        "print(\"Comparison & Logical Ufuncs\\n\")\n",
        "high_output = production_all > 20\n",
        "print(\"high_output:\\n\", high_output)\n",
        "print(\"Greater Equal (production_all >= 20):\\n\", np.greater_equal(production_all, 20))\n",
        "print(\"Less (production_all < 15):\\n\", np.less(production_all, 15))"
      ],
      "execution_count": null,
      "outputs": [
        {
          "output_type": "stream",
          "name": "stdout",
          "text": [
            "Comparison & Logical Ufuncs\n",
            "\n",
            "high_output:\n",
            " [[[False False False]\n",
            "  [False False False]\n",
            "  [False False False]\n",
            "  [False False False]]\n",
            "\n",
            " [[ True False  True]\n",
            "  [False  True False]\n",
            "  [ True  True  True]\n",
            "  [False False False]]\n",
            "\n",
            " [[False False False]\n",
            "  [False False False]\n",
            "  [False False False]\n",
            "  [False False False]]]\n",
            "Greater Equal (production_all >= 20):\n",
            " [[[False False False]\n",
            "  [False False False]\n",
            "  [False False False]\n",
            "  [False False False]]\n",
            "\n",
            " [[ True False  True]\n",
            "  [False  True False]\n",
            "  [ True  True  True]\n",
            "  [False False False]]\n",
            "\n",
            " [[False False False]\n",
            "  [False False False]\n",
            "  [False False False]\n",
            "  [False False False]]]\n",
            "Less (production_all < 15):\n",
            " [[[ True  True  True]\n",
            "  [ True  True  True]\n",
            "  [ True  True  True]\n",
            "  [ True  True  True]]\n",
            "\n",
            " [[False False False]\n",
            "  [False False False]\n",
            "  [False False False]\n",
            "  [False False False]]\n",
            "\n",
            " [[False False  True]\n",
            "  [ True  True False]\n",
            "  [False False False]\n",
            "  [ True  True  True]]]\n"
          ]
        }
      ]
    },
    {
      "cell_type": "code",
      "metadata": {
        "colab": {
          "base_uri": "https://localhost:8080/"
        },
        "id": "474c7e1e",
        "outputId": "d8850c74-37ac-4206-937d-859afc52b15f"
      },
      "source": [
        "print(\"Bitwise Ufuncs\\n\")\n",
        "alerts = np.array([[[1,0,1],[0,0,1],[1,1,0],[0,1,0]],\n",
        "                   [[1,0,1],[0,0,1],[1,1,0],[0,1,0]],\n",
        "                   [[1,0,1],[0,0,1],[1,1,0],[0,1,0]]])\n",
        "print(\"Alerts:\\n\", alerts)\n",
        "print(\"Bitwise AND (production_all > 15 & alerts):\\n\", np.bitwise_and((production_all > 15).astype(int), alerts))\n",
        "print(\"Bitwise OR (production_all > 15 | alerts):\\n\", np.bitwise_or((production_all > 15).astype(int), alerts))\n",
        "print(\"Bitwise INVERT (~alerts):\\n\", np.invert(alerts))"
      ],
      "execution_count": null,
      "outputs": [
        {
          "output_type": "stream",
          "name": "stdout",
          "text": [
            "Bitwise Ufuncs\n",
            "\n",
            "Alerts:\n",
            " [[[1 0 1]\n",
            "  [0 0 1]\n",
            "  [1 1 0]\n",
            "  [0 1 0]]\n",
            "\n",
            " [[1 0 1]\n",
            "  [0 0 1]\n",
            "  [1 1 0]\n",
            "  [0 1 0]]\n",
            "\n",
            " [[1 0 1]\n",
            "  [0 0 1]\n",
            "  [1 1 0]\n",
            "  [0 1 0]]]\n",
            "Bitwise AND (production_all > 15 & alerts):\n",
            " [[[0 0 0]\n",
            "  [0 0 0]\n",
            "  [0 0 0]\n",
            "  [0 0 0]]\n",
            "\n",
            " [[1 0 1]\n",
            "  [0 0 1]\n",
            "  [1 1 0]\n",
            "  [0 1 0]]\n",
            "\n",
            " [[0 0 0]\n",
            "  [0 0 0]\n",
            "  [1 1 0]\n",
            "  [0 0 0]]]\n",
            "Bitwise OR (production_all > 15 | alerts):\n",
            " [[[1 0 1]\n",
            "  [0 0 1]\n",
            "  [1 1 0]\n",
            "  [0 1 0]]\n",
            "\n",
            " [[1 1 1]\n",
            "  [1 1 1]\n",
            "  [1 1 1]\n",
            "  [1 1 1]]\n",
            "\n",
            " [[1 1 1]\n",
            "  [0 0 1]\n",
            "  [1 1 1]\n",
            "  [0 1 0]]]\n",
            "Bitwise INVERT (~alerts):\n",
            " [[[-2 -1 -2]\n",
            "  [-1 -1 -2]\n",
            "  [-2 -2 -1]\n",
            "  [-1 -2 -1]]\n",
            "\n",
            " [[-2 -1 -2]\n",
            "  [-1 -1 -2]\n",
            "  [-2 -2 -1]\n",
            "  [-1 -2 -1]]\n",
            "\n",
            " [[-2 -1 -2]\n",
            "  [-1 -1 -2]\n",
            "  [-2 -2 -1]\n",
            "  [-1 -2 -1]]]\n"
          ]
        }
      ]
    },
    {
      "cell_type": "code",
      "metadata": {
        "colab": {
          "base_uri": "https://localhost:8080/"
        },
        "id": "1e32f289",
        "outputId": "f3b857ae-950c-4900-cf65-a07242c90c68"
      },
      "source": [
        "print(\"Arithmetic Ufuncs\\n\")\n",
        "print(\"Add (production_all + 5):\\n\", np.add(production_all, 5))\n",
        "print(\"Subtract (production_all - 2):\\n\", np.subtract(production_all, 2))\n",
        "print(\"Multiply (production_all * 1.1):\\n\", np.multiply(production_all, 1.1))\n",
        "print(\"Divide (production_all / 2):\\n\", np.divide(production_all, 2))\n",
        "print(\"Power (production_all ** 2):\\n\", np.power(production_all, 2))\n",
        "print(\"Mod (production_all % 3):\\n\", np.mod(production_all, 3))"
      ],
      "execution_count": null,
      "outputs": [
        {
          "output_type": "stream",
          "name": "stdout",
          "text": [
            "Arithmetic Ufuncs\n",
            "\n",
            "Add (production_all + 5):\n",
            " [[[15.  17.  16. ]\n",
            "  [14.  16.  15. ]\n",
            "  [17.  18.  19. ]\n",
            "  [13.  12.  14. ]]\n",
            "\n",
            " [[25.5 24.5 26.5]\n",
            "  [23.5 25.5 24.5]\n",
            "  [27.5 28.5 26.5]\n",
            "  [22.5 23.5 21.5]]\n",
            "\n",
            " [[20.  21.  19. ]\n",
            "  [19.  18.  20. ]\n",
            "  [21.  22.  23. ]\n",
            "  [17.  16.  18. ]]]\n",
            "Subtract (production_all - 2):\n",
            " [[[ 8.  10.   9. ]\n",
            "  [ 7.   9.   8. ]\n",
            "  [10.  11.  12. ]\n",
            "  [ 6.   5.   7. ]]\n",
            "\n",
            " [[18.5 17.5 19.5]\n",
            "  [16.5 18.5 17.5]\n",
            "  [20.5 21.5 19.5]\n",
            "  [15.5 16.5 14.5]]\n",
            "\n",
            " [[13.  14.  12. ]\n",
            "  [12.  11.  13. ]\n",
            "  [14.  15.  16. ]\n",
            "  [10.   9.  11. ]]]\n",
            "Multiply (production_all * 1.1):\n",
            " [[[11.   13.2  12.1 ]\n",
            "  [ 9.9  12.1  11.  ]\n",
            "  [13.2  14.3  15.4 ]\n",
            "  [ 8.8   7.7   9.9 ]]\n",
            "\n",
            " [[22.55 21.45 23.65]\n",
            "  [20.35 22.55 21.45]\n",
            "  [24.75 25.85 23.65]\n",
            "  [19.25 20.35 18.15]]\n",
            "\n",
            " [[16.5  17.6  15.4 ]\n",
            "  [15.4  14.3  16.5 ]\n",
            "  [17.6  18.7  19.8 ]\n",
            "  [13.2  12.1  14.3 ]]]\n",
            "Divide (production_all / 2):\n",
            " [[[ 5.    6.    5.5 ]\n",
            "  [ 4.5   5.5   5.  ]\n",
            "  [ 6.    6.5   7.  ]\n",
            "  [ 4.    3.5   4.5 ]]\n",
            "\n",
            " [[10.25  9.75 10.75]\n",
            "  [ 9.25 10.25  9.75]\n",
            "  [11.25 11.75 10.75]\n",
            "  [ 8.75  9.25  8.25]]\n",
            "\n",
            " [[ 7.5   8.    7.  ]\n",
            "  [ 7.    6.5   7.5 ]\n",
            "  [ 8.    8.5   9.  ]\n",
            "  [ 6.    5.5   6.5 ]]]\n",
            "Power (production_all ** 2):\n",
            " [[[100.   144.   121.  ]\n",
            "  [ 81.   121.   100.  ]\n",
            "  [144.   169.   196.  ]\n",
            "  [ 64.    49.    81.  ]]\n",
            "\n",
            " [[420.25 380.25 462.25]\n",
            "  [342.25 420.25 380.25]\n",
            "  [506.25 552.25 462.25]\n",
            "  [306.25 342.25 272.25]]\n",
            "\n",
            " [[225.   256.   196.  ]\n",
            "  [196.   169.   225.  ]\n",
            "  [256.   289.   324.  ]\n",
            "  [144.   121.   169.  ]]]\n",
            "Mod (production_all % 3):\n",
            " [[[1.  0.  2. ]\n",
            "  [0.  2.  1. ]\n",
            "  [0.  1.  2. ]\n",
            "  [2.  1.  0. ]]\n",
            "\n",
            " [[2.5 1.5 0.5]\n",
            "  [0.5 2.5 1.5]\n",
            "  [1.5 2.5 0.5]\n",
            "  [2.5 0.5 1.5]]\n",
            "\n",
            " [[0.  1.  2. ]\n",
            "  [2.  1.  0. ]\n",
            "  [1.  2.  0. ]\n",
            "  [0.  2.  1. ]]]\n"
          ]
        }
      ]
    },
    {
      "cell_type": "code",
      "metadata": {
        "colab": {
          "base_uri": "https://localhost:8080/"
        },
        "id": "594bdab2",
        "outputId": "cbdfc2f2-94f1-4cab-b159-66963420518b"
      },
      "source": [
        "print(\"Broadcast-based Summary Table\\n\")\n",
        "panel_totals_per_farm = np.sum(production_all, axis=2)\n",
        "print(\"Panel Totals Per Farm:\\n\", panel_totals_per_farm)\n",
        "\n",
        "needs_maintenance = np.any(panel_totals_per_farm < 40, axis=1)\n",
        "print(\"Needs Maintenance:\\n\", needs_maintenance)\n",
        "\n",
        "print(\"Minimum per farm:\\n\", np.min(production_all, axis=(1,2)))\n",
        "print(\"Maximum per farm:\\n\", np.max(production_all, axis=(1,2)))\n",
        "print(\"Any production above 25 per farm:\\n\", np.any(production_all > 25, axis=(1,2)))\n",
        "print(\"All production above 5 per farm:\\n\", np.all(production_all > 5, axis=(1,2)))"
      ],
      "execution_count": null,
      "outputs": [
        {
          "output_type": "stream",
          "name": "stdout",
          "text": [
            "Broadcast-based Summary Table\n",
            "\n",
            "Panel Totals Per Farm:\n",
            " [[33.  30.  39.  24. ]\n",
            " [61.5 58.5 67.5 52.5]\n",
            " [45.  42.  51.  36. ]]\n",
            "Needs Maintenance:\n",
            " [ True False  True]\n",
            "Minimum per farm:\n",
            " [ 7.  16.5 11. ]\n",
            "Maximum per farm:\n",
            " [14.  23.5 18. ]\n",
            "Any production above 25 per farm:\n",
            " [False False False]\n",
            "All production above 5 per farm:\n",
            " [ True  True  True]\n"
          ]
        }
      ]
    },
    {
      "cell_type": "code",
      "metadata": {
        "colab": {
          "base_uri": "https://localhost:8080/"
        },
        "id": "900a2cb8",
        "outputId": "8e9aad12-8823-4a92-a6d0-8b144ed370a6"
      },
      "source": [
        "print(\"Final KPIs\\n\")\n",
        "overall_total = np.sum(production_all)\n",
        "print(\"Overall Total Production:\", overall_total)\n",
        "\n",
        "peak_hour_value = np.max(production_all)\n",
        "print(\"Peak Hour Value:\", peak_hour_value)\n",
        "\n",
        "peak_hour_location = np.argmax(production_all)\n",
        "farm, panel, hour = np.unravel_index(peak_hour_location, production_all.shape)\n",
        "print(f\"Peak Hour Location (Farm, Panel, Hour): ({farm}, {panel}, {hour})\")\n",
        "\n",
        "average_per_panel = np.mean(production_all, axis=(0, 2))\n",
        "print(\"Average Production Per Panel (across all farms):\", average_per_panel)"
      ],
      "execution_count": null,
      "outputs": [
        {
          "output_type": "stream",
          "name": "stdout",
          "text": [
            "Final KPIs\n",
            "\n",
            "Overall Total Production: 540.0\n",
            "Peak Hour Value: 23.5\n",
            "Peak Hour Location (Farm, Panel, Hour): (1, 2, 1)\n",
            "Average Production Per Panel (across all farms): [15.5 14.5 17.5 12.5]\n"
          ]
        }
      ]
    },
    {
      "cell_type": "code",
      "source": [
        "arr=np.array([1,2,3,4,5,6])\n",
        "arr.reshape(2,3)"
      ],
      "metadata": {
        "colab": {
          "base_uri": "https://localhost:8080/"
        },
        "id": "jYt2iqz80q-l",
        "outputId": "28682477-988b-4049-cd77-1b829765ecaf"
      },
      "execution_count": null,
      "outputs": [
        {
          "output_type": "execute_result",
          "data": {
            "text/plain": [
              "array([[1, 2, 3],\n",
              "       [4, 5, 6]])"
            ]
          },
          "metadata": {},
          "execution_count": 150
        }
      ]
    },
    {
      "cell_type": "code",
      "source": [
        "a=np.array([1,2])\n",
        "b=np.array([3,4])\n",
        "print(np.vstack((a,b)))\n",
        "print(np.hstack((a,b)))\n",
        "arr=np.array([1,2,3,4,5,6])\n",
        "print(np.array_split(arr,3))"
      ],
      "metadata": {
        "colab": {
          "base_uri": "https://localhost:8080/"
        },
        "id": "DbZLf9Wl30-E",
        "outputId": "30bf73c8-b184-43c1-a762-23b5ac20746a"
      },
      "execution_count": null,
      "outputs": [
        {
          "output_type": "stream",
          "name": "stdout",
          "text": [
            "[[1 2]\n",
            " [3 4]]\n",
            "[1 2 3 4]\n",
            "[array([1, 2]), array([3, 4]), array([5, 6])]\n"
          ]
        }
      ]
    },
    {
      "cell_type": "code",
      "source": [
        "arr=np.array([1,2,3,4,5,6])\n",
        "print(arr[arr>3])"
      ],
      "metadata": {
        "colab": {
          "base_uri": "https://localhost:8080/"
        },
        "id": "BI4bqzDy4BCA",
        "outputId": "25d79b4b-1d1c-4589-e808-19a3287914f6"
      },
      "execution_count": null,
      "outputs": [
        {
          "output_type": "stream",
          "name": "stdout",
          "text": [
            "[4 5 6]\n"
          ]
        }
      ]
    },
    {
      "cell_type": "code",
      "source": [
        "ind=[4,0,2]\n",
        "print(arr[ind])"
      ],
      "metadata": {
        "colab": {
          "base_uri": "https://localhost:8080/"
        },
        "id": "paVtZmXM47Gk",
        "outputId": "3601b533-8db7-484c-e466-5d532578190d"
      },
      "execution_count": null,
      "outputs": [
        {
          "output_type": "stream",
          "name": "stdout",
          "text": [
            "[5 1 3]\n"
          ]
        }
      ]
    },
    {
      "cell_type": "code",
      "source": [
        "#View shares memory\n",
        "view=arr.view()\n",
        "view[0]=69\n",
        "print(\"View:\",view)\n",
        "print(\"Array:\",arr)"
      ],
      "metadata": {
        "colab": {
          "base_uri": "https://localhost:8080/"
        },
        "id": "ivw0j0gu5Epe",
        "outputId": "0d4d7b78-fabd-4f4d-dd9c-7e26364de0b1"
      },
      "execution_count": null,
      "outputs": [
        {
          "output_type": "stream",
          "name": "stdout",
          "text": [
            "View: [69  2  3  4  5  6]\n",
            "Array: [69  2  3  4  5  6]\n",
            "None\n"
          ]
        }
      ]
    },
    {
      "cell_type": "code",
      "source": [
        "#Copy shares memory\n",
        "copy=arr.copy()\n",
        "copy[0]=89\n",
        "print(\"Copy:\",copy)\n",
        "print(\"Array:\",arr)"
      ],
      "metadata": {
        "colab": {
          "base_uri": "https://localhost:8080/"
        },
        "id": "3tyi8eoK6biM",
        "outputId": "03e70198-c264-4e22-8222-15274a1fe093"
      },
      "execution_count": null,
      "outputs": [
        {
          "output_type": "stream",
          "name": "stdout",
          "text": [
            "Copy: [89  2  3  4  5  6]\n",
            "Array: [69  2  3  4  5  6]\n"
          ]
        }
      ]
    },
    {
      "cell_type": "code",
      "source": [
        "np.save('array.npy',arr)\n"
      ],
      "metadata": {
        "id": "R4CVKW9u6iQs"
      },
      "execution_count": null,
      "outputs": []
    },
    {
      "cell_type": "code",
      "source": [
        "a=np.load('array.npy')\n",
        "print(a)"
      ],
      "metadata": {
        "colab": {
          "base_uri": "https://localhost:8080/"
        },
        "id": "m-joDOIf7esV",
        "outputId": "2dc10fc0-8871-41e4-b005-98cb0425f17f"
      },
      "execution_count": null,
      "outputs": [
        {
          "output_type": "stream",
          "name": "stdout",
          "text": [
            "[69  2  3  4  5  6]\n"
          ]
        }
      ]
    },
    {
      "cell_type": "markdown",
      "source": [
        "TasksArray Creation\n",
        "Create a 1D array of numbers from 10 to 50.\n",
        "Create a 3x3 array of random numbers between 0 and 1.\n",
        "Array Attributes\n",
        "Find the shape, size, and data type of the array you created in the previous task.\n",
        "Basic Operations\n",
        "Add 5 to every element of a 1D array.\n",
        "Multiply two 2D arrays element-wise.\n",
        "Indexing and Slicing\n",
        "Create a 5x5 array of integers from 1 to 25. Extract:\n",
        "The first row.\n",
        "The last column.\n",
        "A subarray of the first three rows and first two columns.\n",
        "Aggregation\n",
        "Create a 10-element array of random integers between 10 and 100. Find:\n",
        "The maximum value.\n",
        "The minimum value.\n",
        "The mean and standard deviation.\n",
        "Reshaping\n",
        "Convert a 1D array of numbers from 1 to 12 into a 3x4 matrix.\n",
        "Broadcasting\n",
        "Create a 3x3 matrix of ones. Add a 1D array [1, 2, 3] to each row.\n",
        "Filtering\n",
        "Create a 1D array of random integers between 1 and 50. Extract all elements that are divisible by 5.\n",
        "Matrix Multiplication\n",
        "Create two 2x2 matrices and perform matrix multiplication.\n",
        "Advanced Indexing\n",
        "Given a 4x4 array, use fancy indexing to extract the diagonal elements."
      ],
      "metadata": {
        "id": "Lx3s-mG48C62"
      }
    },
    {
      "cell_type": "code",
      "source": [
        "TasksArray=np.arange(10,51)\n",
        "print(TasksArray)"
      ],
      "metadata": {
        "colab": {
          "base_uri": "https://localhost:8080/"
        },
        "id": "D34RCiwD7hku",
        "outputId": "9d15b0c7-6688-4704-b294-a8b83ce9c2b5"
      },
      "execution_count": null,
      "outputs": [
        {
          "output_type": "stream",
          "name": "stdout",
          "text": [
            "[10 11 12 13 14 15 16 17 18 19 20 21 22 23 24 25 26 27 28 29 30 31 32 33\n",
            " 34 35 36 37 38 39 40 41 42 43 44 45 46 47 48 49 50]\n"
          ]
        }
      ]
    },
    {
      "cell_type": "code",
      "source": [
        "r=np.random.random((3,3))\n",
        "print(r)"
      ],
      "metadata": {
        "colab": {
          "base_uri": "https://localhost:8080/"
        },
        "id": "c_z1O3xH8Lxr",
        "outputId": "e3040f61-b98e-4232-ff18-5c62e93ed8af"
      },
      "execution_count": null,
      "outputs": [
        {
          "output_type": "stream",
          "name": "stdout",
          "text": [
            "[[0.51331517 0.3720607  0.4421892 ]\n",
            " [0.42405727 0.44680378 0.49155933]\n",
            " [0.44819578 0.88236851 0.47493116]]\n"
          ]
        }
      ]
    },
    {
      "cell_type": "code",
      "source": [
        "print(\"Shape:\",r.shape)\n",
        "print(\"Size:\",r.size)\n",
        "print(\"Datatype:\",r.dtype)"
      ],
      "metadata": {
        "colab": {
          "base_uri": "https://localhost:8080/"
        },
        "id": "Ocii6Bh-8SaB",
        "outputId": "bc860f7e-4fb0-43e9-df5e-c8f8aa7ea3ca"
      },
      "execution_count": null,
      "outputs": [
        {
          "output_type": "stream",
          "name": "stdout",
          "text": [
            "Shape: (3, 3)\n",
            "Size: 9\n",
            "Datatype: float64\n"
          ]
        }
      ]
    },
    {
      "cell_type": "code",
      "source": [
        "TasksArray+=5\n",
        "print(\"TasksArray after adding 5:\",TasksArray)"
      ],
      "metadata": {
        "colab": {
          "base_uri": "https://localhost:8080/"
        },
        "id": "RoqDzWAj814J",
        "outputId": "e2e01b71-19c1-4e48-e747-984fa0de6772"
      },
      "execution_count": null,
      "outputs": [
        {
          "output_type": "stream",
          "name": "stdout",
          "text": [
            "TasksArray after adding 5: [20 21 22 23 24 25 26 27 28 29 30 31 32 33 34 35 36 37 38 39 40 41 42 43\n",
            " 44 45 46 47 48 49 50 51 52 53 54 55 56 57 58 59 60]\n"
          ]
        }
      ]
    },
    {
      "cell_type": "code",
      "source": [
        "arr1_2d=np.array([[1,2,3],[7,4,0]])\n",
        "arr2_2d=np.array([[4,6,2],[2,12,5]])\n",
        "prod=np.multiply(arr1_2d,arr2_2d)\n",
        "print(prod)"
      ],
      "metadata": {
        "colab": {
          "base_uri": "https://localhost:8080/"
        },
        "id": "FmHJLoVd8-X3",
        "outputId": "2ff15dc7-b42a-4a80-c07f-e403c8a4ee69"
      },
      "execution_count": null,
      "outputs": [
        {
          "output_type": "stream",
          "name": "stdout",
          "text": [
            "[[ 4 12  6]\n",
            " [14 48  0]]\n"
          ]
        }
      ]
    },
    {
      "cell_type": "code",
      "source": [
        "arr=np.arange(1,26).reshape(5,5)\n",
        "print(\"5x5 Matrix:\\n\",arr)\n",
        "print(\"First row:\",arr[0,:])\n",
        "print(\"Last column:\",arr[:,4])\n",
        "print(\"Subarray:\\n\",arr[0:3,0:2])"
      ],
      "metadata": {
        "colab": {
          "base_uri": "https://localhost:8080/"
        },
        "id": "_1Pr4bTL9bZs",
        "outputId": "4a5053d9-0e3a-41a7-fc06-caa252d13b11"
      },
      "execution_count": null,
      "outputs": [
        {
          "output_type": "stream",
          "name": "stdout",
          "text": [
            "5x5 Matrix:\n",
            " [[ 1  2  3  4  5]\n",
            " [ 6  7  8  9 10]\n",
            " [11 12 13 14 15]\n",
            " [16 17 18 19 20]\n",
            " [21 22 23 24 25]]\n",
            "First row: [1 2 3 4 5]\n",
            "Last column: [ 5 10 15 20 25]\n",
            "Subarray:\n",
            " [[ 1  2]\n",
            " [ 6  7]\n",
            " [11 12]]\n"
          ]
        }
      ]
    },
    {
      "cell_type": "code",
      "source": [
        "arr=np.random.randint(10,100,(1,10))\n",
        "print(arr)\n",
        "print(\"Max:\",np.max(arr))\n",
        "print(\"Min:\",np.min(arr))\n",
        "print(\"Mean:\",np.mean(arr),'Std:',np.std(arr))"
      ],
      "metadata": {
        "colab": {
          "base_uri": "https://localhost:8080/"
        },
        "id": "Ikquyn_k902h",
        "outputId": "22d1407e-42ff-4ac4-9e35-8ea5d364e4de"
      },
      "execution_count": null,
      "outputs": [
        {
          "output_type": "stream",
          "name": "stdout",
          "text": [
            "[[57 23 30 36 44 43 54 95 53 94]]\n",
            "Max: 95\n",
            "Min: 23\n",
            "Mean: 52.9 Std: 23.15361742795281\n"
          ]
        }
      ]
    },
    {
      "cell_type": "code",
      "source": [
        "arr=np.arange(1,13)\n",
        "print(\"Before reshaping:\",arr)\n",
        "print(\"After reshaping:\\n\",arr.reshape(3,4))"
      ],
      "metadata": {
        "colab": {
          "base_uri": "https://localhost:8080/"
        },
        "id": "BHSRxy0C-c7D",
        "outputId": "415475f6-ae6e-4436-c36a-480e43e24a0a"
      },
      "execution_count": null,
      "outputs": [
        {
          "output_type": "stream",
          "name": "stdout",
          "text": [
            "Before reshaping: [ 1  2  3  4  5  6  7  8  9 10 11 12]\n",
            "After reshaping:\n",
            " [[ 1  2  3  4]\n",
            " [ 5  6  7  8]\n",
            " [ 9 10 11 12]]\n"
          ]
        }
      ]
    },
    {
      "cell_type": "code",
      "source": [
        "arr=np.ones((3,3))\n",
        "ad=np.array([1,2,3])\n",
        "print(\"Sum:\\n\",np.add(arr,ad))"
      ],
      "metadata": {
        "colab": {
          "base_uri": "https://localhost:8080/"
        },
        "id": "kGaOmkZr_Hcn",
        "outputId": "85f70442-a9e2-4212-d7d9-fbd87e4b89db"
      },
      "execution_count": null,
      "outputs": [
        {
          "output_type": "stream",
          "name": "stdout",
          "text": [
            "Sum:\n",
            " [[2. 3. 4.]\n",
            " [2. 3. 4.]\n",
            " [2. 3. 4.]]\n"
          ]
        }
      ]
    },
    {
      "cell_type": "code",
      "source": [
        "arr=np.random.randint(1,51,(1,50))\n",
        "print(\"Array of random integers from 1 to 50:\\n\",arr)\n",
        "print(\"Elements divisible by 5:\\n\",arr[arr%5==0])"
      ],
      "metadata": {
        "colab": {
          "base_uri": "https://localhost:8080/"
        },
        "id": "CFfVsBOL_Tu5",
        "outputId": "60da3d3b-e12f-4fcb-af42-01bec63bcb62"
      },
      "execution_count": null,
      "outputs": [
        {
          "output_type": "stream",
          "name": "stdout",
          "text": [
            "Array of random integers from 1 to 50:\n",
            " [[37  8  8  2 45 47 28 12 16  2 37 10 43 31 28 17 20  9 22 31 21 32 25  6\n",
            "   9 42 14  6 18 15  5 38 43 15 32 24 10 47  7 30 20  4 15 29 23  2 24 17\n",
            "   5 12]]\n",
            "Elements divisible by 5:\n",
            " [45 10 20 25 15  5 15 10 30 20 15  5]\n"
          ]
        }
      ]
    },
    {
      "cell_type": "code",
      "source": [
        "arr1=np.array([[1,2,3],[5,6,7]])\n",
        "arr2=np.array([[53,24,9],[9,1,4]])\n",
        "print(\"Array1:\\n\",arr1,'\\nArray2:\\n',arr2)\n",
        "print(\"Matrix multiplication:\\n\",np.cross(arr1,arr2))"
      ],
      "metadata": {
        "colab": {
          "base_uri": "https://localhost:8080/"
        },
        "id": "JxwLRbTX_q5y",
        "outputId": "a19ba7a2-dd53-4cfd-ae1f-f86a1a1ff81b"
      },
      "execution_count": null,
      "outputs": [
        {
          "output_type": "stream",
          "name": "stdout",
          "text": [
            "Array1:\n",
            " [[1 2 3]\n",
            " [5 6 7]] \n",
            "Array2:\n",
            " [[53 24  9]\n",
            " [ 9  1  4]]\n",
            "Matrix multiplication:\n",
            " [[-54 150 -82]\n",
            " [ 17  43 -49]]\n"
          ]
        }
      ]
    },
    {
      "cell_type": "code",
      "source": [
        "arr=np.arange(1,17).reshape(4,4)\n",
        "print(\"Array:\\n\",arr)\n",
        "print(\"Diagonal elements:\",arr[[0,1,2,3],[0,1,2,3]])"
      ],
      "metadata": {
        "colab": {
          "base_uri": "https://localhost:8080/"
        },
        "id": "Mc3oE-laAL5_",
        "outputId": "566b9c26-09ef-46ab-b2a2-dfcac809f8e6"
      },
      "execution_count": null,
      "outputs": [
        {
          "output_type": "stream",
          "name": "stdout",
          "text": [
            "Array:\n",
            " [[ 1  2  3  4]\n",
            " [ 5  6  7  8]\n",
            " [ 9 10 11 12]\n",
            " [13 14 15 16]]\n",
            "Diagonal elements: [ 1  6 11 16]\n"
          ]
        }
      ]
    },
    {
      "cell_type": "code",
      "source": [],
      "metadata": {
        "id": "funHnQq3AaHu"
      },
      "execution_count": null,
      "outputs": []
    }
  ]
}